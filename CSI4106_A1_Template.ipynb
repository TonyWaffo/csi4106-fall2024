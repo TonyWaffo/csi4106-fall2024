{
  "cells": [
    {
      "cell_type": "markdown",
      "metadata": {},
      "source": [
        "**CSI 4106 Introduction to Artificial Intelligence** <br/>\n",
        "*Assignment 1: Data Preparation*\n",
        "\n",
        "# Identification\n",
        "\n",
        "Name: Tony Adams Waffo<br/>\n",
        "Student Number: 300310088\n",
        "\n",
        "# Exploratory Analysis\n",
        "\n",
        "## Import important libraries"
      ]
    },
    {
      "cell_type": "code",
      "execution_count": 1,
      "metadata": {},
      "outputs": [],
      "source": [
        "# Your code goes here\n",
        "import pandas as pd"
      ]
    },
    {
      "cell_type": "markdown",
      "metadata": {},
      "source": [
        "## Read Dataset\n",
        "\n",
        "As outlined in the project description, it should be possible for the correctors to ecute your notebook without requiring any downloads.\n",
        "\n",
        "To facilitate access to the dataset without the need for downloads, use the data ovided in the public GitHub repository and provide a link to the raw version of the taset.\n",
        "\n",
        "The link to the raw version is as follows:\n",
        "\n",
        "*https://raw.githubusercontent.com/GITHUB_USERNAME/REPOSITORY_NAME/main/DATASETNAME.v*\n",
        "\n",
        "For example:\n",
        "\n",
        "[https://github.com/turcotte/csi4106-f24/blob/main/assignments-data/a1/01/glass.csv]ttps://github.com/turcotte/csi4106-f24/blob/main/assignments-data/a1/01/glass.csv)\n",
        "\n",
        "Now provide the link to YOUR dataset and read the dataset:"
      ]
    },
    {
      "cell_type": "code",
      "execution_count": 24,
      "metadata": {},
      "outputs": [],
      "source": [
        "urls = [\n",
        "    \"https://raw.githubusercontent.com/turcotte/csi4106-f24/main/assignments-data/a1/01/glass.csv\",\n",
        "    \"https://raw.githubusercontent.com/turcotte/csi4106-f24/main/assignments-data/a1/02/dermatology_database_1.csv\",\n",
        "    \"https://raw.githubusercontent.com/turcotte/csi4106-f24/main/assignments-data/a1/03/Maternal%20Health%20Risk%20Data%20Set.csv\",\n",
        "    \"https://raw.githubusercontent.com/turcotte/csi4106-f24/main/assignments-data/a1/04/car.data\",\n",
        "    \"https://raw.githubusercontent.com/turcotte/csi4106-f24/main/assignments-data/a1/05/WineQT.csv\",\n",
        "    # \"https://raw.githubusercontent.com/turcotte/csi4106-f24/main/assignments-data/a1/06/16P.csv\",\n",
        "    \"https://raw.githubusercontent.com/turcotte/csi4106-f24/main/assignments-data/a1/07/test.csv\"\n",
        "]\n",
        "\n",
        "dataframes=[]\n",
        "\n",
        "for url in urls:\n",
        "    dset=pd.read_csv(url)\n",
        "    dataframes.append(dset)\n",
        "\n",
        "#dataset = pd.read_csv(url7)"
      ]
    },
    {
      "cell_type": "markdown",
      "metadata": {},
      "source": [
        "## Guidelines\n",
        "\n",
        "The following are the questions for Assignment 1. Under each question, we have provided an initial code cell. You are encouraged to add additional code cells to maintain logical separation of your code. For instance, place the definition of a function in one cell and its execution in a subsequent cell. This approach will help preserve clarity and enhance readability by avoiding the inclusion of excessive code within a single cell.\n",
        "\n",
        "1. **Analysis of Missing Values**: Examine the datasets to identify and assess ssing values in various attributes. Missing values may be represented by symbols ch as '?', empty strings, or other placeholders.\n",
        "\n",
        "    1.1 In the list of options, what are the datasets that contain missing values? ecifically, which attribute or attributes has missing values?\n",
        "        In the list below, the dataset that contains missing values are:\n",
        "        - dataset 2: the attributes missing is the age\n",
        "        - dataset 6: the attributes missing are the name,Monthly_Inhand_Salary, Type_of_Loan,Num_of_Delayed_Payment, Num_Credit_Inquiries, Credit_History_Age, Amount_invested_monthly, Monthly_Balance \n",
        "\n",
        "    1.2 Describe the methodology used for this investigation, and provide the rresponding code.\n",
        "\n",
        "        Since there are multiple datset, each dataset has been loaded into a dataframe and isnull() and sum() method were used to count all the missing values for each attribute\n",
        "\n",
        "    1.3 Data imputation involves replacing missing or incomplete data with substituted values to preserve the dataset's integrity for subsequent analysis. Propose imputation strategies for each attribute with missing values."
      ]
    },
    {
      "cell_type": "markdown",
      "metadata": {},
      "source": [
        "1.1 In the list below, the dataset that contains missing values are:\n",
        "    - dataset 2: the attributes missing is the age\n",
        "    - dataset 6: the attributes missing are the name,Monthly_Inhand_Salary, Type_of_Loan,Num_of_Delayed_Payment, Num_Credit_Inquiries, Credit_History_Age, Amount_invested_monthly, Monthly_Balance \n"
      ]
    },
    {
      "cell_type": "code",
      "execution_count": null,
      "metadata": {},
      "outputs": [],
      "source": []
    },
    {
      "cell_type": "markdown",
      "metadata": {},
      "source": [
        "1.2 The methdology used is \n",
        "\n",
        "Since there are multiple datset, each dataset has been loaded into a dataframe and isnull() and sum() method were used to count all the missing values for each attribute"
      ]
    },
    {
      "cell_type": "code",
      "execution_count": 25,
      "metadata": {},
      "outputs": [
        {
          "name": "stdout",
          "output_type": "stream",
          "text": [
            "The emytyvalues for dataset 2 are:\n",
            "age    8\n",
            "dtype: int64\n",
            "\n",
            "\n",
            "The emytyvalues for dataset 6 are:\n",
            "Name                       5015\n",
            "Monthly_Inhand_Salary      7498\n",
            "Type_of_Loan               5704\n",
            "Num_of_Delayed_Payment     3498\n",
            "Num_Credit_Inquiries       1035\n",
            "Credit_History_Age         4470\n",
            "Amount_invested_monthly    2271\n",
            "Monthly_Balance             562\n",
            "dtype: int64\n",
            "\n",
            "\n"
          ]
        }
      ],
      "source": [
        "# Your code goes here\n",
        "for index, dataset in enumerate(dataframes):\n",
        "    # Identify missing values\n",
        "    missing_values = dataset.isnull().sum()\n",
        "\n",
        "    # Replace '?' with NaN if necessary\n",
        "    dataset.replace(['?', ''], pd.NA, inplace=True)\n",
        "\n",
        "    # Check again for missing values\n",
        "    missing_values_updated = dataset.isnull().sum()\n",
        "\n",
        "    # Only print if there are missing values\n",
        "    if missing_values_updated[missing_values_updated > 0].any():\n",
        "        print(f\"The emyty values for dataset {index + 1} are:\")\n",
        "        print(missing_values_updated[missing_values_updated > 0])\n",
        "        print(\"\\n\")"
      ]
    },
    {
      "cell_type": "markdown",
      "metadata": {},
      "source": [
        "### 1.3 Imputation Strategies for Missing Values\n",
        "\n",
        "- **age in dataset 2**: Use **mean** or **median imputation**. Median is preferred to reduce the impact of outliers, providing a more robust estimate of central tendency.\n",
        "\n",
        "- **Name in dataset 6**: Replace missing values with a placeholder such as **\"Unknown\"** or **\"Not Provided\"** to maintain data integrity without assuming false values.\n",
        "  \n",
        "- **Monthly_Inhand_Salary in dataset 6**:Use **mean** or **median imputation**. The median is recommended for robustness against outliers in salary data.\n",
        "\n",
        "- **Type_of_Loan in dataset 6**: Replace missing values with the **mode** (the most frequent type of loan) or a placeholder like **\"Not Specified\"**.\n",
        "\n",
        "- **Num_of_Delayed_Payment in dataset 6**: Use **mean** or **median imputation**. Median is preferable due to potential outliers.\n",
        "\n",
        "- **Num_Credit_Inquiries in dataset 6**: Use **mean** or **median imputation**. Median may be more appropriate for accuracy.\n",
        "\n",
        "- **Credit_History_Age in dataset 6**: Use **mean** or **median imputation**. Median is recommended for its robustness.\n",
        "\n",
        "- **Amount_invested_monthly in dataset 6**:Use **mean** or **median imputation**. Median may be the better choice here.\n",
        "\n",
        "- **Monthly_Balance in dataset 6**: Use **mean** or **median imputation**. Given the small number of missing values, this can help maintain data integrity.\n"
      ]
    },
    {
      "cell_type": "markdown",
      "metadata": {},
      "source": [
        "2. **Select and familiarize yourself with a classification task:** Choose one of e provided datasets for further investigation. It is advisable to select a dataset ntaining a sufficiently large number of examples, ideally around 1,000, to ensure bust results when applying machine learning algorithms in the subsequent assignment.\n",
        "\n",
        "    2.1 What is the objective of the task? Is it intended for a specific plication? Do you possess expertise in this particular domain of application?\n",
        "\n",
        "    Objective: The primary objective of the wine quality dataset is to classify the quality of wine based on its chemical properties. Each sample in the dataset is rated on a scale from 0 to 10, where the quality rating is determined by various physicochemical tests.\n",
        "\n",
        "    Application: This classification task is particularly relevant for the wine industry, where it can assist winemakers in understanding which chemical properties contribute to higher quality wines. Additionally, it can be useful for consumers who are interested in selecting wines that are healthier or offer better taste profiles.\n",
        "\n",
        "    Domain Expertise: While I'm not an expert in oenology (the study of wine), I find the dataset offers a valuable foundation for exploring the relationship between wine quality and its chemical characteristics. I believe that understanding these factors can deepen my knowledge of how wine impacts health\n"
      ]
    },
    {
      "cell_type": "code",
      "execution_count": null,
      "metadata": {},
      "outputs": [],
      "source": [
        "# Your code goes here"
      ]
    },
    {
      "cell_type": "markdown",
      "metadata": {},
      "source": [
        "3. **Attribute Analysis**: \n",
        "\n",
        "    3.1 Determine which attributes lack informativeness and should be excluded to prove the effectiveness of the machine learning analysis. If all features are emed relevant, explicitly state this conclusion.\n",
        "\n",
        "    All attributes, except for the ID attribute, are likely informative and should be retained for the analysis.\n",
        "    \n",
        "\n",
        "    3.2 Examine the distribution of each attribute (column) within the dataset. Utilize histograms or boxplots to visualize the distributions, identifying any underlying patterns or outliers."
      ]
    },
    {
      "cell_type": "code",
      "execution_count": null,
      "metadata": {},
      "outputs": [],
      "source": [
        "# Your code goes here"
      ]
    },
    {
      "cell_type": "markdown",
      "metadata": {},
      "source": [
        "4. **Class Distribution Analysis**: Investigate the distribution of class labels within the dataset. Employ bar plots to visualize the frequency of instances for each class, and assess whether the dataset is balanced or imbalanced."
      ]
    },
    {
      "cell_type": "code",
      "execution_count": null,
      "metadata": {},
      "outputs": [],
      "source": [
        "# Your code goes here"
      ]
    },
    {
      "cell_type": "markdown",
      "metadata": {},
      "source": [
        "5. **Preprocessing**: \n",
        "\n",
        "    5.1 For numerical features, determine the best transformation to use. Indicate e transformation that seems appropriate and why. Include the code illustrating how  apply the transformation. For at least one attribute, show the distribution before d after the transformation. See [Preprocessing data](https://scikit-learn.org/able/modules/preprocessing.html).\n",
        "\n",
        "    5.2 For categorical features, show how to apply [one-hot encoding](https://ikit-learn.org/stable/modules/generated/sklearn.preprocessing.OneHotEncoder.html).  your dataset does not have categorical data, show how to apply the one-hot encoder  the label (target variable)."
      ]
    },
    {
      "cell_type": "code",
      "execution_count": null,
      "metadata": {},
      "outputs": [],
      "source": [
        "# Your code goes here"
      ]
    },
    {
      "cell_type": "markdown",
      "metadata": {},
      "source": [
        "6. **Training and target data**: Set the Python variable `X` to designate the data and `y` to designate the target class. Make sure to select only the informative features."
      ]
    },
    {
      "cell_type": "code",
      "execution_count": null,
      "metadata": {},
      "outputs": [],
      "source": [
        "# Your code goes here"
      ]
    },
    {
      "cell_type": "markdown",
      "metadata": {},
      "source": [
        "7. **Training and test sets**: Split the dataset into training and testing sets. Reserve 20% of data for testing."
      ]
    },
    {
      "cell_type": "code",
      "execution_count": null,
      "metadata": {},
      "outputs": [],
      "source": [
        "# Your code goes here"
      ]
    },
    {
      "cell_type": "markdown",
      "metadata": {},
      "source": [
        "--------------------------------------------------------------------------\n",
        "\n",
        "# References\n",
        "\n",
        "Make sure you provide references to ALL sources used (articles, code, algorithms).\n",
        "\n",
        "## AI transcript\n",
        "**Hint:** To share a link to your colab notebook, click on \"share\" on the top right. Then, under *General access* , change *Restricted* to \"Anyone with the link\"."
      ]
    }
  ],
  "metadata": {
    "kernelspec": {
      "display_name": "Python 3 (ipykernel)",
      "language": "python",
      "name": "python3"
    },
    "language_info": {
      "codemirror_mode": {
        "name": "ipython",
        "version": 3
      },
      "file_extension": ".py",
      "mimetype": "text/x-python",
      "name": "python",
      "nbconvert_exporter": "python",
      "pygments_lexer": "ipython3",
      "version": "3.12.6"
    }
  },
  "nbformat": 4,
  "nbformat_minor": 4
}
